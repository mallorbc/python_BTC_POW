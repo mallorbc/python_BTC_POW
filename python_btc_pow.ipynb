{
 "cells": [
  {
   "cell_type": "markdown",
   "metadata": {
    "id": "31GQ4HHiVnLg"
   },
   "source": [
    "# In this Note Book we will be going over the Bitcoin POW(proof of work) algorithm with python."
   ]
  },
  {
   "cell_type": "markdown",
   "metadata": {
    "id": "tSmseTomWDvv"
   },
   "source": [
    "### The Bitcoin POW algorithm is one of the key steps taken that secures the network, along with public and private key signatures on transactions."
   ]
  },
  {
   "cell_type": "markdown",
   "metadata": {
    "id": "_oX1gyq5WXmd"
   },
   "source": [
    "### The BTC POW algorithm is slow to compute, but fast to verify, and thats what makes it work. BTC POW uses SHA256 as its hashing algorithm"
   ]
  },
  {
   "cell_type": "markdown",
   "metadata": {
    "id": "IstDDB7XbMFL"
   },
   "source": [
    "#### First lets take a look at hashing.  Hashing is a function that maps data to a *unique key.  This data can be anything, whether that be a file, or in our example, a character string. In BTC it is the block.\n",
    "\n",
    "*some hashing algorithms have what is called collisions.  This is where the hash of data input gives the same hash as another data input.  This is currently understood to not be mathetmatically possible with SHA256"
   ]
  },
  {
   "cell_type": "markdown",
   "metadata": {
    "id": "oi0zWZyocWU-"
   },
   "source": [
    "For demonstration, lets hash something with sha256.  These outputs, while not random are impossible to predict without already having hashed them."
   ]
  },
  {
   "cell_type": "code",
   "execution_count": null,
   "metadata": {
    "colab": {
     "base_uri": "https://localhost:8080/"
    },
    "id": "xPuDzT42cOeA",
    "outputId": "844d598a-9659-4d0c-8284-2199728bec52"
   },
   "outputs": [],
   "source": [
    "import hashlib\n",
    "message = \"Hello world\"        \n",
    "message = str.encode(message)\n",
    "hashed_message = hashlib.sha256(message).hexdigest()\n",
    "print(hashed_message)\n",
    "\n",
    "#Even just changing/adding/removing/moving one character will give a unique hash:\n",
    "\n",
    "message = \"Hello World\"        \n",
    "message = str.encode(message)\n",
    "hashed_message = hashlib.sha256(message).hexdigest()\n",
    "print(hashed_message)\n",
    "\n",
    "message = \"World Hello\"        \n",
    "message = str.encode(message)\n",
    "hashed_message = hashlib.sha256(message).hexdigest()\n",
    "print(hashed_message)"
   ]
  },
  {
   "cell_type": "markdown",
   "metadata": {
    "id": "KhNRs_NCXEbR"
   },
   "source": [
    "### In BTC, blocks contain transaction data, as well as the hash of the previous block.  It also includes the timestamp, the nonce and a few more things.  For simplicity sake, in this video we will just be looking at the nonce"
   ]
  },
  {
   "cell_type": "markdown",
   "metadata": {
    "id": "AKpwChBPd_l8"
   },
   "source": [
    "# Lets now import the rest of the code and then review it as needed."
   ]
  },
  {
   "cell_type": "code",
   "execution_count": null,
   "metadata": {
    "id": "67cb6Uyhd9H2"
   },
   "outputs": [],
   "source": [
    "import hashlib\n",
    "import argparse\n",
    "import multiprocessing\n",
    "import numpy as np\n",
    "import time\n",
    "\n",
    "#set the number of leading zeros we need to have\n",
    "def set_difficulty(difficulty):\n",
    "    check_hash = \"\"\n",
    "    for i in range(difficulty):\n",
    "        check_hash = check_hash + \"0\"\n",
    "    return check_hash\n",
    "\n",
    "#does POW on one core\n",
    "def one_core(difficulty, base_message,process_size):\n",
    "    counter = 0\n",
    "    solution = set_difficulty(difficulty)\n",
    "    start = time.time()\n",
    "    while True:\n",
    "        message = base_message + \" \" + str(counter)\n",
    "        message = str.encode(message)\n",
    "        hashed_message = hashlib.sha256(message).hexdigest()\n",
    "        check_hash = hashed_message[:difficulty]\n",
    "        if check_hash == solution:\n",
    "            print()\n",
    "            print(base_message + \" \" + str(counter))\n",
    "            print()\n",
    "            print(hashed_message)\n",
    "            print(\"Hashed \" + str(counter) + \" times\")\n",
    "            break\n",
    "        counter = counter + 1\n",
    "        if counter % process_size == 0:\n",
    "            end = time.time()\n",
    "            time_elasped = end - start\n",
    "            start = time.time()\n",
    "            hash_rate = calc_hashrate(process_size,1,time_elasped)\n",
    "            million = counter / 1000000\n",
    "            print(\"Hashed \" + str(int(million)) + \" million times\")\n",
    "            print(\"Hashrate: \" + str(hash_rate) + \" MH/sec\")\n",
    "\n",
    "def multiprocess_hashing(difficulty,base_message,process_size,number_of_processes):\n",
    "    counter = 0\n",
    "    #gets the difficulty\n",
    "    solution = set_difficulty(difficulty)\n",
    "    #used for multiprocessing\n",
    "    manager = multiprocessing.Manager()\n",
    "    return_dict = manager.dict()\n",
    "    exit_status = False\n",
    "    while True:\n",
    "        jobs = []\n",
    "        #tracks time start\n",
    "        start = time.time()\n",
    "        for i in range(number_of_processes):\n",
    "            #chunks works for each core\n",
    "            low_bound = counter*process_size\n",
    "            high_bound = ((counter+1)*process_size)-1\n",
    "\n",
    "            counter = counter + 1\n",
    "            #creates and starts job\n",
    "            p = multiprocessing.Process(target=hash_process, args=(\n",
    "                low_bound, high_bound, base_message, difficulty, solution, return_dict))\n",
    "            jobs.append(p)\n",
    "            p.start()\n",
    "        #waits for each job to finish\n",
    "        for proc in jobs:\n",
    "            proc.join()\n",
    "            status = return_dict.values()[0]\n",
    "            #checks if a nounce was returned or not\n",
    "            if status != False and exit_status == False:\n",
    "                exit_status = True\n",
    "                final_status = status\n",
    "        #tracks the end time\n",
    "        end = time.time()\n",
    "        #prints the found nouce and the hashed data\n",
    "        if exit_status:\n",
    "            print(\"found nounce: \" + base_message + \" \" + str(final_status))\n",
    "            message = base_message + \" \" + str(final_status)\n",
    "            message = str.encode(message)\n",
    "            hashed_message = hashlib.sha256(message).hexdigest()\n",
    "            print(hashed_message)\n",
    "            break\n",
    "\n",
    "        #status updates\n",
    "        if process_size*number_of_processes>=1000000000:\n",
    "            billions = high_bound/1000000000\n",
    "            print(\"Hashed \" + str(np.round(billions)) + \" billion times\")\n",
    "            hashes = high_bound - low_bound\n",
    "            time_elasped = end-start\n",
    "            hashrate = calc_hashrate(hashes,number_of_processes,time_elasped)\n",
    "            print(\"Hashrate: \" + str(hashrate) + \" MH/sec\")\n",
    "        else:\n",
    "            millions = high_bound/1000000\n",
    "            print(\"Hashed \" + str(np.round(millions)) + \" million times\")\n",
    "            hashes = high_bound - low_bound\n",
    "            time_elasped = end-start\n",
    "            hashes = high_bound - low_bound\n",
    "            time_elasped = end-start\n",
    "            hashrate = calc_hashrate(hashes,number_of_processes,time_elasped)\n",
    "            print(\"Hashrate: \" + str(hashrate) + \" MH/sec\")\n",
    "\n",
    "#calculates MH/sec\n",
    "def calc_hashrate(hashes,number_of_processes,time):\n",
    "    hash_rate = hashes/1000000\n",
    "    hash_rate = hash_rate * number_of_processes\n",
    "    hash_rate = hash_rate/time\n",
    "    hash_rate = np.round(hash_rate,3)\n",
    "    return hash_rate\n",
    "\n",
    "\n",
    "#process that does POW on more cores in sequential chunks\n",
    "def hash_process(low_bound, high_bound, base_message, difficulty, solution, return_dict):\n",
    "    return_dict['status'] = False\n",
    "    for i in range(low_bound, high_bound):\n",
    "        message = base_message + \" \" + str(i)\n",
    "        message = str.encode(message)\n",
    "        hashed_message = hashlib.sha256(message).hexdigest()\n",
    "        check_hash = hashed_message[:difficulty]\n",
    "        if check_hash == solution:\n",
    "            return_dict['status'] = i\n",
    "            break\n",
    "\n",
    "\n",
    "    return return_dict\n",
    "\n",
    "#runs algorithm and takes args\n",
    "def main(base_message=\"Hello world\",process_size=7,number_of_processes=10,difficulty=7,mode_to_run=0):\n",
    "    #sets the number of hashes to do per process\n",
    "    process_size = pow(10,process_size)\n",
    "\n",
    "    if mode_to_run == 0:\n",
    "        one_core(difficulty, base_message,process_size)\n",
    "    else:\n",
    "        multiprocess_hashing(difficulty, base_message,process_size,number_of_processes)"
   ]
  },
  {
   "cell_type": "markdown",
   "metadata": {
    "id": "xQphLh4Bl5Lz"
   },
   "source": [
    "### So as its implied in the name, BTC POW is to prove the work has been done on a block. Work in this case is computational work.  This computational work is done by hashing a block until a sha256 hash is found that meets certain requirements. "
   ]
  },
  {
   "cell_type": "markdown",
   "metadata": {
    "id": "z4PLnCVRN_s0"
   },
   "source": [
    "#### In Bitcoin, one of those requirements is that the block hash is below a certain value.  In other words, it is a requirement that a hash of some data lead with a certain amount of zeros. This is the concept of difficulty in the blockchain, with more leading zeros requiring more hashin(more work) to find. Lets look a demo."
   ]
  },
  {
   "cell_type": "code",
   "execution_count": 27,
   "metadata": {
    "colab": {
     "base_uri": "https://localhost:8080/"
    },
    "id": "EWwLRQaiOhGU",
    "outputId": "0124305e-2e83-443e-edd7-381bbb3943a6"
   },
   "outputs": [
    {
     "name": "stdout",
     "output_type": "stream",
     "text": [
      "0\n",
      "000\n"
     ]
    }
   ],
   "source": [
    "#Using code we loaded earlier, we can set a diffculty string to check for\n",
    "difficulty = 1\n",
    "difficulty_string = set_difficulty(difficulty)\n",
    "print(difficulty_string)\n",
    "#If we set the difficulty to a higher level, say 3, we will checking for three leading zeros\n",
    "difficulty = 3\n",
    "difficulty_string = set_difficulty(difficulty)\n",
    "print(difficulty_string)"
   ]
  },
  {
   "cell_type": "markdown",
   "metadata": {
    "id": "w-jVEOvmP1Tu"
   },
   "source": [
    "#### As we saw previously, the hash for a string like \"Hello world\" is 64ec88ca00b268e5ba1a35678a1b5316d212f4f366b2477232534a8aeca37f3c\n",
    "\n",
    "#### If we wanted to make it so that the string \"Hello world\" mets the requirements of a certain difficulty, we are going to have to add or change some data.  We don't want to change the message, so we are going to add a number, called a nonce to the end of the message and hash the entire thing.  We will keep hashing until we have a hash that meets the requirements.  Lets first take a look at what this means though"
   ]
  },
  {
   "cell_type": "code",
   "execution_count": 28,
   "metadata": {
    "colab": {
     "base_uri": "https://localhost:8080/"
    },
    "id": "--XK9zSWRNj1",
    "outputId": "d1453e1b-8f11-43cf-d55a-6ec3cf27936f"
   },
   "outputs": [
    {
     "name": "stdout",
     "output_type": "stream",
     "text": [
      "Message to hash:  Hello world 0\n",
      "Hashed message:  835e01a61fdccc4a26d5aaf06b3eaded5018e3c23e9aa37371d9d6df0c324827\n",
      "\n",
      "Message to hash:  Hello world 1\n",
      "Hashed message:  f2f8c4dfc31be22607ea3d49a247b98fc62e6fd35429344d28f7be6fda187a9d\n",
      "\n",
      "Message to hash:  Hello world 2\n",
      "Hashed message:  995d462952b37ff30bc1a20b187ed90fc5359bcd55ad17c5a4d0fc6b88ca1153\n",
      "\n",
      "Message to hash:  Hello world 3\n",
      "Hashed message:  bb1c79418c616acb0e3c82a39cf2db264ec30cf3541e4e896e1a1477bc40b980\n",
      "\n",
      "Message to hash:  Hello world 4\n",
      "Hashed message:  96871d0bbe52dcb9246b2ec8e5436eb36ef71c22e1aeb196d5551230bda6fe28\n",
      "\n"
     ]
    }
   ],
   "source": [
    "#Lets hash \"Hello world\" 5 times, each with a different nonce.\n",
    "base_message = \"Hello world\"\n",
    "for i in range(5):\n",
    "  message = base_message + \" \" + str(i)\n",
    "  print(\"Message to hash: \",message)\n",
    "  message = str.encode(message)\n",
    "  hashed_message = hashlib.sha256(message).hexdigest()\n",
    "  print(\"Hashed message: \",hashed_message)\n",
    "  print()"
   ]
  },
  {
   "cell_type": "markdown",
   "metadata": {
    "id": "7IB1-uwIR3d0"
   },
   "source": [
    "#### As we can see, by adding changing the nonce we are changing the output of hash.  If we do this enough times, we should find a hash that starts with the needed number of zeros depending on the difficulty of the blockchain.\n",
    "\n",
    "#### **Important to note with respect to Bitcoin, is that the nonce can only be up to 32 bits, or roughly 4 billion.  If this was the only variable that could be changed, this would causes issues as there may not be hash that exists with only 4 billion attempts(if the diffculty is high enough). However, Bitcoin contains transactions, and these tranactions can be in any order, meaning that the number of possible combinations with just the nonce and the tranactions(and there is more to a block as well like timestamp) is n!*2^32  which while not infinite, with even only a couple dozen tranactions, it might as well be**"
   ]
  },
  {
   "cell_type": "markdown",
   "metadata": {
    "id": "ST6-gj2SoD4i"
   },
   "source": [
    "#### Lets now briefly see in action how difficulty affects the total amount of work done from hashing and by extension the total amount of time"
   ]
  },
  {
   "cell_type": "code",
   "execution_count": 29,
   "metadata": {
    "colab": {
     "base_uri": "https://localhost:8080/"
    },
    "id": "PSoa_IfDpcjl",
    "outputId": "bf77128a-864e-4616-adc7-407b9361e330"
   },
   "outputs": [
    {
     "name": "stdout",
     "output_type": "stream",
     "text": [
      "\n",
      "Hello world 31\n",
      "\n",
      "0a39c74837af783db9302d7f621a721953b1f86a869100e49d74e58bbb4763bd\n",
      "Hashed 31 times\n",
      "CPU times: user 266 µs, sys: 0 ns, total: 266 µs\n",
      "Wall time: 210 µs\n"
     ]
    }
   ],
   "source": [
    "%%time\n",
    "#difficulty of 1\n",
    "main(base_message=\"Hello world\",process_size=6,number_of_processes=1,difficulty=1,mode_to_run=0)"
   ]
  },
  {
   "cell_type": "code",
   "execution_count": 30,
   "metadata": {
    "colab": {
     "base_uri": "https://localhost:8080/"
    },
    "id": "O8v-8QcoqvtY",
    "outputId": "7cb8917e-aff7-44a8-c215-a15ec8c13f91"
   },
   "outputs": [
    {
     "name": "stdout",
     "output_type": "stream",
     "text": [
      "\n",
      "Hello world 110\n",
      "\n",
      "00a4b238a37aa3d043a75e5af6f44450e918ccff09ac1b4a6b65ec33493a2cfe\n",
      "Hashed 110 times\n",
      "CPU times: user 297 µs, sys: 1 µs, total: 298 µs\n",
      "Wall time: 255 µs\n"
     ]
    }
   ],
   "source": [
    "%%time\n",
    "#difficulty of 2\n",
    "main(base_message=\"Hello world\",process_size=6,number_of_processes=1,difficulty=2,mode_to_run=0)"
   ]
  },
  {
   "cell_type": "code",
   "execution_count": 31,
   "metadata": {
    "colab": {
     "base_uri": "https://localhost:8080/"
    },
    "id": "E-UE-4Csq1J1",
    "outputId": "099c6298-9f86-4e04-9db2-66dee4d555c5"
   },
   "outputs": [
    {
     "name": "stdout",
     "output_type": "stream",
     "text": [
      "\n",
      "Hello world 734\n",
      "\n",
      "000e00fc5734ce3a04437d1ca3eecc05bb3b592480b5b29b77d1426f583ae868\n",
      "Hashed 734 times\n",
      "CPU times: user 1.25 ms, sys: 0 ns, total: 1.25 ms\n",
      "Wall time: 1.2 ms\n"
     ]
    }
   ],
   "source": [
    "%%time\n",
    "#difficulty of 3\n",
    "main(base_message=\"Hello world\",process_size=6,number_of_processes=1,difficulty=3,mode_to_run=0)"
   ]
  },
  {
   "cell_type": "code",
   "execution_count": 32,
   "metadata": {
    "colab": {
     "base_uri": "https://localhost:8080/"
    },
    "id": "NifHTAtRq9kb",
    "outputId": "6d9ebd05-62ef-472e-d424-49775eafa9ba"
   },
   "outputs": [
    {
     "name": "stdout",
     "output_type": "stream",
     "text": [
      "\n",
      "Hello world 17626\n",
      "\n",
      "00003aabd6484a57810b931cb7bb9d9bce5f9b6e5115f3b482b46767a3aacea3\n",
      "Hashed 17626 times\n",
      "CPU times: user 24 ms, sys: 0 ns, total: 24 ms\n",
      "Wall time: 23.8 ms\n"
     ]
    }
   ],
   "source": [
    "%%time\n",
    "#difficulty of 4\n",
    "main(base_message=\"Hello world\",process_size=6,number_of_processes=1,difficulty=4,mode_to_run=0)"
   ]
  },
  {
   "cell_type": "code",
   "execution_count": 33,
   "metadata": {
    "colab": {
     "base_uri": "https://localhost:8080/"
    },
    "id": "dmhLiVFIrBp7",
    "outputId": "d240ab75-be6a-4813-a43f-01d7189d38b0"
   },
   "outputs": [
    {
     "name": "stdout",
     "output_type": "stream",
     "text": [
      "Hashed 1 million times\n",
      "Hashrate: 0.999 MH/sec\n",
      "Hashed 2 million times\n",
      "Hashrate: 1.017 MH/sec\n",
      "Hashed 3 million times\n",
      "Hashrate: 1.003 MH/sec\n",
      "Hashed 4 million times\n",
      "Hashrate: 1.004 MH/sec\n",
      "\n",
      "Hello world 4304875\n",
      "\n",
      "00000584a225dd625f432686cc78258639ccc97162454b6745bb363a8cffaa31\n",
      "Hashed 4304875 times\n",
      "CPU times: user 4.26 s, sys: 7.99 ms, total: 4.27 s\n",
      "Wall time: 4.28 s\n"
     ]
    }
   ],
   "source": [
    "%%time\n",
    "#difficulty of 5\n",
    "main(base_message=\"Hello world\",process_size=6,number_of_processes=1,difficulty=5,mode_to_run=0)"
   ]
  },
  {
   "cell_type": "code",
   "execution_count": 34,
   "metadata": {
    "colab": {
     "base_uri": "https://localhost:8080/"
    },
    "id": "aUs09c_0rbng",
    "outputId": "b2d22b07-686d-4492-a520-ca121492e6ca"
   },
   "outputs": [
    {
     "name": "stdout",
     "output_type": "stream",
     "text": [
      "Hashed 10 million times\n",
      "Hashrate: 0.983 MH/sec\n",
      "Hashed 20 million times\n",
      "Hashrate: 0.979 MH/sec\n",
      "\n",
      "Hello world 26476165\n",
      "\n",
      "000000690d1f0e3d780d62c8f681de53e87ee1f054555d03b1ab6ef0e04a9de2\n",
      "Hashed 26476165 times\n",
      "CPU times: user 27 s, sys: 0 ns, total: 27 s\n",
      "Wall time: 27 s\n"
     ]
    }
   ],
   "source": [
    "%%time\n",
    "#difficulty of 6\n",
    "main(base_message=\"Hello world\",process_size=7,number_of_processes=1,difficulty=6,mode_to_run=0)"
   ]
  },
  {
   "cell_type": "code",
   "execution_count": 35,
   "metadata": {
    "colab": {
     "base_uri": "https://localhost:8080/"
    },
    "id": "-fNjt-QqsUjt",
    "outputId": "b09f9769-b264-4bb4-a057-b2cad768d5af"
   },
   "outputs": [
    {
     "name": "stdout",
     "output_type": "stream",
     "text": [
      "Hashed 10 million times\n",
      "Hashrate: 0.981 MH/sec\n",
      "Hashed 20 million times\n",
      "Hashrate: 0.985 MH/sec\n",
      "Hashed 30 million times\n",
      "Hashrate: 0.987 MH/sec\n",
      "Hashed 40 million times\n",
      "Hashrate: 0.986 MH/sec\n",
      "Hashed 50 million times\n",
      "Hashrate: 0.996 MH/sec\n",
      "Hashed 60 million times\n",
      "Hashrate: 1.001 MH/sec\n",
      "Hashed 70 million times\n",
      "Hashrate: 0.989 MH/sec\n",
      "Hashed 80 million times\n",
      "Hashrate: 0.988 MH/sec\n",
      "Hashed 90 million times\n",
      "Hashrate: 0.995 MH/sec\n",
      "Hashed 100 million times\n",
      "Hashrate: 0.986 MH/sec\n",
      "Hashed 110 million times\n",
      "Hashrate: 0.984 MH/sec\n",
      "Hashed 120 million times\n",
      "Hashrate: 0.984 MH/sec\n",
      "Hashed 130 million times\n",
      "Hashrate: 0.984 MH/sec\n",
      "Hashed 140 million times\n",
      "Hashrate: 0.975 MH/sec\n",
      "Hashed 150 million times\n",
      "Hashrate: 0.998 MH/sec\n",
      "Hashed 160 million times\n",
      "Hashrate: 0.984 MH/sec\n",
      "Hashed 170 million times\n",
      "Hashrate: 0.978 MH/sec\n",
      "Hashed 180 million times\n",
      "Hashrate: 0.983 MH/sec\n",
      "Hashed 190 million times\n",
      "Hashrate: 0.99 MH/sec\n",
      "Hashed 200 million times\n",
      "Hashrate: 0.981 MH/sec\n",
      "Hashed 210 million times\n",
      "Hashrate: 0.981 MH/sec\n",
      "Hashed 220 million times\n",
      "Hashrate: 0.971 MH/sec\n",
      "Hashed 230 million times\n",
      "Hashrate: 1.002 MH/sec\n",
      "Hashed 240 million times\n",
      "Hashrate: 0.975 MH/sec\n",
      "\n",
      "Hello world 242124683\n",
      "\n",
      "0000000d215bc8336a60193e69d0517ef2b256be40c5029dff0637535db8b58c\n",
      "Hashed 242124683 times\n",
      "CPU times: user 4min 5s, sys: 212 ms, total: 4min 5s\n",
      "Wall time: 4min 5s\n"
     ]
    }
   ],
   "source": [
    "%%time\n",
    "#difficulty of 7, this one will take over several minutes on colab\n",
    "main(base_message=\"Hello world\",process_size=7,number_of_processes=1,difficulty=7,mode_to_run=0)"
   ]
  },
  {
   "cell_type": "markdown",
   "metadata": {
    "id": "gKFrzcqduyTf"
   },
   "source": [
    "#### So as one can see, for unique data, in order to find a hash that meets the diffculty requirements there is no way but to put in the work.\n",
    "\n",
    "#### Important to note, is that once this work is done, it can be checked almost instantly"
   ]
  },
  {
   "cell_type": "code",
   "execution_count": 36,
   "metadata": {
    "colab": {
     "base_uri": "https://localhost:8080/"
    },
    "id": "qupsRImQvoxk",
    "outputId": "49a5eb5a-6afc-4375-a107-e810cbf9f95c"
   },
   "outputs": [
    {
     "name": "stdout",
     "output_type": "stream",
     "text": [
      "0000000d215bc8336a60193e69d0517ef2b256be40c5029dff0637535db8b58c\n"
     ]
    }
   ],
   "source": [
    "#Here we take a found nouce and message that has 7 leading zeros;  We can hash it and check it almost instantly\n",
    "message = \"Hello world 242124683\"        \n",
    "message = str.encode(message)\n",
    "hashed_message = hashlib.sha256(message).hexdigest()\n",
    "print(hashed_message)"
   ]
  },
  {
   "cell_type": "markdown",
   "metadata": {
    "id": "R5NEjGYBwS_C"
   },
   "source": [
    "#### So Bitcoin validators recieve work from miners and can quickly check the result.  A valid result will be accepted, and the mined block will be propogated to the network.  The miner will then recieve Bitcoin for this work.\n",
    "\n",
    "#### By using POW, along with a few other methods, Bitcoin can be highly secure, distributed, immutable network.  One thing worth pointing out, is that since the previous block hash is one of the inputs in a blockchain, this POW makes it so one can not change past blocks without being detected and without redoing past work."
   ]
  }
 ],
 "metadata": {
  "colab": {
   "collapsed_sections": [],
   "name": "python _btc_pow.ipynb",
   "provenance": []
  },
  "kernelspec": {
   "display_name": "Python 3",
   "language": "python",
   "name": "python3"
  },
  "language_info": {
   "codemirror_mode": {
    "name": "ipython",
    "version": 3
   },
   "file_extension": ".py",
   "mimetype": "text/x-python",
   "name": "python",
   "nbconvert_exporter": "python",
   "pygments_lexer": "ipython3",
   "version": "3.7.10"
  }
 },
 "nbformat": 4,
 "nbformat_minor": 1
}
